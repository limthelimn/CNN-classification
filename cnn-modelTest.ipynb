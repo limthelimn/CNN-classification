{
 "cells": [
  {
   "cell_type": "code",
   "execution_count": 15,
   "metadata": {},
   "outputs": [],
   "source": [
    "from keras.models import load_model\n",
    "from keras.models import Model, Sequential\n",
    "from keras.layers import Input, Dense, Conv2D, MaxPool2D, Flatten, Dropout, BatchNormalization\n",
    "from keras.utils import to_categorical\n",
    "from sklearn.metrics import confusion_matrix\n",
    "import matplotlib.pyplot as plt\n",
    "import numpy as np\n",
    "import cv2\n",
    "\n",
    "import glob\n",
    "import os"
   ]
  },
  {
   "cell_type": "code",
   "execution_count": 16,
   "metadata": {},
   "outputs": [],
   "source": [
    "model = load_model(\"./cnn-class/datasets_model.h5\")"
   ]
  },
  {
   "cell_type": "code",
   "execution_count": 25,
   "metadata": {},
   "outputs": [],
   "source": [
    "datasets = \"./cnn-class/datasets/\""
   ]
  },
  {
   "cell_type": "code",
   "execution_count": 27,
   "metadata": {},
   "outputs": [],
   "source": [
    "N = 2000\n",
    "size = 128\n",
    "\n",
    "x_test = np.zeros((N, size, size, 1), 'float')\n",
    "y_test = np.zeros((N), 'float')\n",
    "\n",
    "count = 0\n",
    "\n",
    "class_id = sorted(os.listdir(datasets))\n",
    "\n",
    "for i, class_ in enumerate(class_id):\n",
    "    datas = sorted(os.listdir(os.path.join(datasets, class_)))\n",
    "    \n",
    "    for data in datas:\n",
    "        im = cv2.imread(os.path.join(datasets, class_, data), cv2.IMREAD_GRAYSCALE)\n",
    "        im = cv2.resize(im, (size, size))\n",
    "        x_test[count, :, :, 0] = im / 255.\n",
    "        y_test[count] = i\n",
    "        count += 1\n",
    "\n",
    "y_test = to_categorical(y_test)"
   ]
  },
  {
   "cell_type": "code",
   "execution_count": 38,
   "metadata": {},
   "outputs": [
    {
     "name": "stdout",
     "output_type": "stream",
     "text": [
      "63/63 [==============================] - 2s 27ms/step\n"
     ]
    }
   ],
   "source": [
    "y_pred = model.predict(x_test)\n",
    "\n",
    "prediction = y_pred.argmax(axis=1)"
   ]
  },
  {
   "cell_type": "code",
   "execution_count": 39,
   "metadata": {},
   "outputs": [],
   "source": [
    "classifications = ['B', 'D', 'R', 'S']\n",
    "\n",
    "data_test = './cnn-class/datasets_split/test/'\n",
    "\n",
    "images_test = []\n",
    "\n",
    "for folder in os.listdir(data_test):\n",
    "    folders = os.path.join(data_test, folder)\n",
    "    \n",
    "    if os.path.isdir(folders):\n",
    "        \n",
    "        for data in os.listdir(folders):\n",
    "            \n",
    "            if data.endswith('.jpg'):\n",
    "                data_path = os.path.join(folders, data)\n",
    "                images_test.append(data_path)"
   ]
  },
  {
   "cell_type": "code",
   "execution_count": 40,
   "metadata": {},
   "outputs": [],
   "source": [
    "with open('result.txt', 'w') as f:\n",
    "    \n",
    "    for i in range(len(images_test)):\n",
    "        image_name = os.path.basename(images_test[i])\n",
    "        classification = classifications[prediction[i]]\n",
    "        f.write('{}::{}\\n'.format(\n",
    "            image_name, classification))"
   ]
  },
  {
   "cell_type": "code",
   "execution_count": 41,
   "metadata": {},
   "outputs": [
    {
     "name": "stdout",
     "output_type": "stream",
     "text": [
      "63/63 [==============================] - 2s 25ms/step - loss: 0.7628 - accuracy: 0.8335\n",
      "Total loss: 0.7628423571586609\n",
      "Total accuracy: 0.8335000276565552\n"
     ]
    }
   ],
   "source": [
    "loss, accuracy = model.evaluate(x_test, y_test)\n",
    "\n",
    "print(f'Total loss: {loss}')\n",
    "print(f'Total accuracy: {accuracy}')"
   ]
  }
 ],
 "metadata": {
  "kernelspec": {
   "display_name": "Python 3",
   "language": "python",
   "name": "python3"
  },
  "language_info": {
   "codemirror_mode": {
    "name": "ipython",
    "version": 3
   },
   "file_extension": ".py",
   "mimetype": "text/x-python",
   "name": "python",
   "nbconvert_exporter": "python",
   "pygments_lexer": "ipython3",
   "version": "3.11.2"
  },
  "orig_nbformat": 4
 },
 "nbformat": 4,
 "nbformat_minor": 2
}
