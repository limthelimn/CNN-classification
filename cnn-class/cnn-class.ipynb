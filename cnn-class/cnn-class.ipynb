{
 "cells": [
  {
   "cell_type": "code",
   "execution_count": 4,
   "metadata": {},
   "outputs": [],
   "source": [
    "from keras.models import Model\n",
    "from keras.layers import Input, Dense, Conv2D, MaxPool2D, Flatten, Dropout, BatchNormalization\n",
    "from keras.utils import to_categorical\n",
    "from keras.optimizers import Adam\n",
    "import numpy as np\n",
    "import cv2\n",
    "\n",
    "import glob\n",
    "import os\n"
   ]
  },
  {
   "cell_type": "code",
   "execution_count": 6,
   "metadata": {},
   "outputs": [],
   "source": [
    "size = 128\n",
    "\n",
    "input = Input(shape = (size, size, 1))\n",
    "\n",
    "conv1 = Conv2D(10, 4, activation='relu')(input)\n",
    "dropout1 = Dropout(0.5)(conv1)\n",
    "BatchNormalization()\n",
    "pool1 = MaxPool2D(pool_size=(3, 3))(dropout1)\n",
    "\n",
    "conv2 = Conv2D(20, 4, activation='relu')(pool1)\n",
    "dropout2 = Dropout(0.5)(conv2)\n",
    "BatchNormalization()\n",
    "pool2 = MaxPool2D(pool_size=(3, 3))(dropout2)\n",
    "\n",
    "flat = Flatten()(pool2)\n",
    "hidden = Dense(128, activation='relu')(flat)\n",
    "output = Dense(4, activation='softmax')(hidden)\n",
    "model = Model(inputs=input, outputs=output)"
   ]
  },
  {
   "cell_type": "code",
   "execution_count": 7,
   "metadata": {},
   "outputs": [],
   "source": [
    "model.compile(optimizer=Adam(learning_rate=0.0001),\n",
    "              loss='categorical_crossentropy',\n",
    "              metrics=['accuracy'])"
   ]
  },
  {
   "cell_type": "code",
   "execution_count": 8,
   "metadata": {},
   "outputs": [
    {
     "name": "stdout",
     "output_type": "stream",
     "text": [
      "Model: \"model_1\"\n",
      "_________________________________________________________________\n",
      " Layer (type)                Output Shape              Param #   \n",
      "=================================================================\n",
      " input_2 (InputLayer)        [(None, 128, 128, 1)]     0         \n",
      "                                                                 \n",
      " conv2d_2 (Conv2D)           (None, 125, 125, 10)      170       \n",
      "                                                                 \n",
      " dropout_2 (Dropout)         (None, 125, 125, 10)      0         \n",
      "                                                                 \n",
      " max_pooling2d_2 (MaxPooling  (None, 41, 41, 10)       0         \n",
      " 2D)                                                             \n",
      "                                                                 \n",
      " conv2d_3 (Conv2D)           (None, 38, 38, 20)        3220      \n",
      "                                                                 \n",
      " dropout_3 (Dropout)         (None, 38, 38, 20)        0         \n",
      "                                                                 \n",
      " max_pooling2d_3 (MaxPooling  (None, 12, 12, 20)       0         \n",
      " 2D)                                                             \n",
      "                                                                 \n",
      " flatten_1 (Flatten)         (None, 2880)              0         \n",
      "                                                                 \n",
      " dense_2 (Dense)             (None, 128)               368768    \n",
      "                                                                 \n",
      " dense_3 (Dense)             (None, 4)                 516       \n",
      "                                                                 \n",
      "=================================================================\n",
      "Total params: 372,674\n",
      "Trainable params: 372,674\n",
      "Non-trainable params: 0\n",
      "_________________________________________________________________\n"
     ]
    }
   ],
   "source": [
    "model.summary()"
   ]
  },
  {
   "attachments": {},
   "cell_type": "markdown",
   "metadata": {},
   "source": [
    "## Train Datasets"
   ]
  },
  {
   "cell_type": "code",
   "execution_count": 1,
   "metadata": {},
   "outputs": [
    {
     "ename": "NameError",
     "evalue": "name 'np' is not defined",
     "output_type": "error",
     "traceback": [
      "\u001b[1;31m---------------------------------------------------------------------------\u001b[0m",
      "\u001b[1;31mNameError\u001b[0m                                 Traceback (most recent call last)",
      "Cell \u001b[1;32mIn[1], line 5\u001b[0m\n\u001b[0;32m      1\u001b[0m datasets \u001b[39m=\u001b[39m \u001b[39m\"\u001b[39m\u001b[39mdatasets_split/train/\u001b[39m\u001b[39m\"\u001b[39m\n\u001b[0;32m      3\u001b[0m N \u001b[39m=\u001b[39m \u001b[39m1600\u001b[39m\n\u001b[1;32m----> 5\u001b[0m x_train \u001b[39m=\u001b[39m np\u001b[39m.\u001b[39mzeros((N, size, size, \u001b[39m1\u001b[39m), \u001b[39m'\u001b[39m\u001b[39mfloat\u001b[39m\u001b[39m'\u001b[39m)\n\u001b[0;32m      6\u001b[0m y_train \u001b[39m=\u001b[39m np\u001b[39m.\u001b[39mzeros((N), \u001b[39m'\u001b[39m\u001b[39mfloat\u001b[39m\u001b[39m'\u001b[39m)\n\u001b[0;32m      8\u001b[0m count \u001b[39m=\u001b[39m \u001b[39m0\u001b[39m\n",
      "\u001b[1;31mNameError\u001b[0m: name 'np' is not defined"
     ]
    }
   ],
   "source": [
    "datasets = \"datasets_split/train/\"\n",
    "\n",
    "N = 1600\n",
    "\n",
    "x_train = np.zeros((N, size, size, 1), 'float')\n",
    "y_train = np.zeros((N), 'float')\n",
    "\n",
    "count = 0\n",
    "\n",
    "class_id = sorted(os.listdir(datasets))\n",
    "\n",
    "for i, class_ in enumerate(class_id):\n",
    "    datas = sorted(os.listdir(os.path.join(datasets, class_)))\n",
    "    \n",
    "    for data in datas:\n",
    "        im = cv2.imread(os.path.join(datasets, class_, data), cv2.IMREAD_GRAYSCALE)\n",
    "        im = cv2.resize(im, (size, size))\n",
    "        x_train[count, :, :, 0] = im / 255.\n",
    "        y_train[count] = i\n",
    "        count += 1\n",
    "\n",
    "y_train = to_categorical(y_train)"
   ]
  },
  {
   "attachments": {},
   "cell_type": "markdown",
   "metadata": {},
   "source": [
    "### Train Model"
   ]
  },
  {
   "cell_type": "code",
   "execution_count": null,
   "metadata": {},
   "outputs": [],
   "source": [
    "h = model.fit(x_train, y_train, epochs=50, batch_size=64, verbose=1)"
   ]
  },
  {
   "cell_type": "code",
   "execution_count": null,
   "metadata": {},
   "outputs": [],
   "source": [
    "# save model\n",
    "model.save(\"datasets_model.h5\")"
   ]
  },
  {
   "attachments": {},
   "cell_type": "markdown",
   "metadata": {},
   "source": [
    "## Test Datasets"
   ]
  },
  {
   "cell_type": "code",
   "execution_count": null,
   "metadata": {},
   "outputs": [],
   "source": [
    "datasets = \"datasets_split/test/\"\n",
    "\n",
    "N = 400\n",
    "\n",
    "x_test = np.zeros((N, size, size, 1), 'float')\n",
    "y_test = np.zeros((N), 'float')\n",
    "\n",
    "count = 0\n",
    "\n",
    "class_id = sorted(os.listdir(datasets))\n",
    "\n",
    "for i, class_ in enumerate(class_id):\n",
    "    datas = sorted(os.listdir(os.path.join(datasets, class_)))\n",
    "    \n",
    "    for data in datas:\n",
    "        im = cv2.imread(os.path.join(datasets, class_, data), cv2.IMREAD_GRAYSCALE)\n",
    "        im = cv2.resize(im, (size, size))\n",
    "        x_test[count, :, :, 0] = im / 255.\n",
    "        y_test[count] = i\n",
    "        count += 1\n",
    "\n",
    "y_test = to_categorical(y_test)"
   ]
  },
  {
   "attachments": {},
   "cell_type": "markdown",
   "metadata": {},
   "source": [
    "## Validation Datasets"
   ]
  },
  {
   "cell_type": "code",
   "execution_count": null,
   "metadata": {},
   "outputs": [],
   "source": [
    "datasets = \"datasets_split/val/\"\n",
    "\n",
    "N = 400\n",
    "\n",
    "x_val = np.zeros((N, size, size, 1), 'float')\n",
    "y_val = np.zeros((N), 'float')\n",
    "\n",
    "count = 0\n",
    "\n",
    "class_id = sorted(os.listdir(datasets))\n",
    "\n",
    "for i, class_ in enumerate(class_id):\n",
    "    datas = sorted(os.listdir(os.path.join(datasets, class_)))\n",
    "    \n",
    "    for data in datas:\n",
    "        im = cv2.imread(os.path.join(datasets, class_, data), cv2.IMREAD_GRAYSCALE)\n",
    "        im = cv2.resize(im, (size, size))\n",
    "        x_val[count, :, :, 0] = im / 255.\n",
    "        y_val[count] = i\n",
    "        count += 1\n",
    "\n",
    "y_val = to_categorical(y_val)"
   ]
  },
  {
   "attachments": {},
   "cell_type": "markdown",
   "metadata": {},
   "source": [
    "### Train Model"
   ]
  },
  {
   "cell_type": "code",
   "execution_count": null,
   "metadata": {},
   "outputs": [],
   "source": [
    "h = model.fit(x_train, y_train, epochs=50, batch_size=64, verbose=1, validation_data=(x_val, y_val))"
   ]
  },
  {
   "cell_type": "code",
   "execution_count": 195,
   "metadata": {},
   "outputs": [
    {
     "name": "stdout",
     "output_type": "stream",
     "text": [
      "13/13 [==============================] - 0s 31ms/step\n"
     ]
    }
   ],
   "source": [
    "y_predic = model.predict(x_test)\n",
    "\n",
    "prediction = y_predic.argmax(axis=1)\n"
   ]
  },
  {
   "cell_type": "code",
   "execution_count": 196,
   "metadata": {},
   "outputs": [],
   "source": [
    "classifications = ['B', 'D', 'R', 'S']\n",
    "\n",
    "data_test = 'datasets_split/test/'\n",
    "\n",
    "images_test = []\n",
    "\n",
    "for folder in os.listdir(data_test):\n",
    "    folders = os.path.join(data_test, folder)\n",
    "    \n",
    "    if os.path.isdir(folders):\n",
    "        \n",
    "        for data in os.listdir(folders):\n",
    "            \n",
    "            if data.endswith('.jpg'):\n",
    "                data_path = os.path.join(folders, data)\n",
    "                images_test.append(data_path)"
   ]
  },
  {
   "cell_type": "code",
   "execution_count": 197,
   "metadata": {},
   "outputs": [],
   "source": [
    "with open('result.txt', 'w') as f:\n",
    "    \n",
    "    for i in range(len(images_test)):\n",
    "        image_name = os.path.basename(images_test[i])\n",
    "        classification = classifications[prediction[i]]\n",
    "        f.write(\"{}::{}\".format(\n",
    "            image_name, classification))"
   ]
  },
  {
   "cell_type": "code",
   "execution_count": 198,
   "metadata": {},
   "outputs": [
    {
     "name": "stdout",
     "output_type": "stream",
     "text": [
      "13/13 [==============================] - 0s 27ms/step - loss: 0.5534 - accuracy: 0.7900\n",
      "Test loss: 0.5533946752548218\n",
      "Test accuracy: 0.7900000214576721\n"
     ]
    }
   ],
   "source": [
    "loss, accuracy = model.evaluate(x_test, y_test)\n",
    "\n",
    "print(f'Total loss: {loss}')\n",
    "print(f'Total accuracy: {accuracy}')"
   ]
  }
 ],
 "metadata": {
  "kernelspec": {
   "display_name": "Python 3",
   "language": "python",
   "name": "python3"
  },
  "language_info": {
   "codemirror_mode": {
    "name": "ipython",
    "version": 3
   },
   "file_extension": ".py",
   "mimetype": "text/x-python",
   "name": "python",
   "nbconvert_exporter": "python",
   "pygments_lexer": "ipython3",
   "version": "3.11.2"
  },
  "orig_nbformat": 4
 },
 "nbformat": 4,
 "nbformat_minor": 2
}
