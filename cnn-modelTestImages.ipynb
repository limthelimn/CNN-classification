{
 "cells": [
  {
   "cell_type": "code",
   "execution_count": null,
   "metadata": {},
   "outputs": [],
   "source": [
    "from keras.models import load_model\n",
    "from keras.models import Model\n",
    "from keras.layers import Input, Dense, Conv2D, MaxPool2D, Flatten, Dropout, BatchNormalization\n",
    "from keras.utils import to_categorical\n",
    "from keras.optimizers import Adam\n",
    "import numpy as np\n",
    "import cv2\n",
    "\n",
    "import glob\n",
    "import os"
   ]
  },
  {
   "cell_type": "code",
   "execution_count": null,
   "metadata": {},
   "outputs": [],
   "source": [
    "# load the saved model\n",
    "model = load_model('./cnn-class/datasets_model.h5')\n",
    "\n",
    "\n",
    "\n",
    "test_dir = './test images/'\n",
    "size = 224"
   ]
  },
  {
   "cell_type": "code",
   "execution_count": null,
   "metadata": {},
   "outputs": [],
   "source": [
    "classifications = ['B', 'D', 'R', 'S']\n",
    "x_test = []\n",
    "image_names = []\n",
    "\n",
    "\n",
    "for data in os.listdir(test_dir):\n",
    "    \n",
    "    if data.endswith('.jpg'):\n",
    "        data_path = os.path.join(test_dir, data)\n",
    "        \n",
    "        img = cv2.imread(data_path, cv2.IMREAD_GRAYSCALE)\n",
    "        img = cv2.resize(img, (size, size))\n",
    "        img = np.expand_dims(img, axis=-1)\n",
    "        img = img.astype('float') / 255.0\n",
    "        x_test.append(img)\n",
    "        image_names.append(data)\n",
    "\n",
    "x_test = np.array(x_test)\n",
    "\n",
    "predictions = model.predict(x_test)\n",
    "\n",
    "predic = predictions.argmax(axis=1)"
   ]
  },
  {
   "cell_type": "code",
   "execution_count": null,
   "metadata": {},
   "outputs": [],
   "source": [
    "with open('result.txt', 'w') as f:\n",
    "    for i in range(len(image_names)):\n",
    "        image_name = image_names[i]\n",
    "        classification = classifications[predic[i]]\n",
    "        f.write(\"{}::{}\\n\".format(image_name, classifications))"
   ]
  }
 ],
 "metadata": {
  "kernelspec": {
   "display_name": "Python 3",
   "language": "python",
   "name": "python3"
  },
  "language_info": {
   "codemirror_mode": {
    "name": "ipython",
    "version": 3
   },
   "file_extension": ".py",
   "mimetype": "text/x-python",
   "name": "python",
   "nbconvert_exporter": "python",
   "pygments_lexer": "ipython3",
   "version": "3.11.2"
  },
  "orig_nbformat": 4,
  "vscode": {
   "interpreter": {
    "hash": "b48b29e65596cde635d29f6349a017151cbf0e69b86a8bd26f26ef15e4f1a626"
   }
  }
 },
 "nbformat": 4,
 "nbformat_minor": 2
}
